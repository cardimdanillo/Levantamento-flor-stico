{
 "cells": [
  {
   "cell_type": "code",
   "execution_count": 1,
   "metadata": {},
   "outputs": [],
   "source": [
    "import pandas as pd\n",
    "import numpy as np\n",
    "\n",
    "import matplotlib.pyplot as plt\n",
    "from matplotlib import colors\n",
    "from matplotlib.ticker import PercentFormatter\n"
   ]
  },
  {
   "cell_type": "code",
   "execution_count": 2,
   "metadata": {},
   "outputs": [],
   "source": [
    "# Carregar dados\n",
    "\n",
    "valores_vazios = [\" \"]\n",
    "dados = pd.read_csv(\"flora_volks_dados.csv\", sep = \";\", na_values = valores_vazios)"
   ]
  },
  {
   "cell_type": "code",
   "execution_count": 3,
   "metadata": {},
   "outputs": [
    {
     "data": {
      "text/html": [
       "<div>\n",
       "<style scoped>\n",
       "    .dataframe tbody tr th:only-of-type {\n",
       "        vertical-align: middle;\n",
       "    }\n",
       "\n",
       "    .dataframe tbody tr th {\n",
       "        vertical-align: top;\n",
       "    }\n",
       "\n",
       "    .dataframe thead th {\n",
       "        text-align: right;\n",
       "    }\n",
       "</style>\n",
       "<table border=\"1\" class=\"dataframe\">\n",
       "  <thead>\n",
       "    <tr style=\"text-align: right;\">\n",
       "      <th></th>\n",
       "      <th>Número</th>\n",
       "      <th>Família</th>\n",
       "      <th>Gênero</th>\n",
       "      <th>sp</th>\n",
       "      <th>autor</th>\n",
       "      <th>Hábito</th>\n",
       "      <th>Origem</th>\n",
       "      <th>Substrato</th>\n",
       "      <th>Endemismo</th>\n",
       "    </tr>\n",
       "  </thead>\n",
       "  <tbody>\n",
       "    <tr>\n",
       "      <th>0</th>\n",
       "      <td>57</td>\n",
       "      <td>NaN</td>\n",
       "      <td>NaN</td>\n",
       "      <td>NaN</td>\n",
       "      <td>NaN</td>\n",
       "      <td>NaN</td>\n",
       "      <td>NaN</td>\n",
       "      <td>NaN</td>\n",
       "      <td>NaN</td>\n",
       "    </tr>\n",
       "    <tr>\n",
       "      <th>1</th>\n",
       "      <td>24</td>\n",
       "      <td>Acanthaceae</td>\n",
       "      <td>Justicia</td>\n",
       "      <td>chrysotrichoma</td>\n",
       "      <td>(Nees) Benth.</td>\n",
       "      <td>Erva, Subarbusto</td>\n",
       "      <td>Nativa</td>\n",
       "      <td>Terrícola</td>\n",
       "      <td>sim</td>\n",
       "    </tr>\n",
       "    <tr>\n",
       "      <th>2</th>\n",
       "      <td>138</td>\n",
       "      <td>Alstroemeriaceae</td>\n",
       "      <td>Altroemeria</td>\n",
       "      <td>stenopetala</td>\n",
       "      <td>Schenk</td>\n",
       "      <td>Erva</td>\n",
       "      <td>Nativa</td>\n",
       "      <td>Terrícola</td>\n",
       "      <td>sim</td>\n",
       "    </tr>\n",
       "    <tr>\n",
       "      <th>3</th>\n",
       "      <td>21</td>\n",
       "      <td>Amaranthaceae</td>\n",
       "      <td>Pfaffia</td>\n",
       "      <td>denudata</td>\n",
       "      <td>(Moq.) Kuntze</td>\n",
       "      <td>Arbusto, Erva, Subarbusto</td>\n",
       "      <td>Nativa</td>\n",
       "      <td>Terrícola</td>\n",
       "      <td>sim</td>\n",
       "    </tr>\n",
       "    <tr>\n",
       "      <th>4</th>\n",
       "      <td>169</td>\n",
       "      <td>Amaranthaceae</td>\n",
       "      <td>Pfaffia</td>\n",
       "      <td>denudata</td>\n",
       "      <td>(Moq.) Kuntze</td>\n",
       "      <td>Arbusto, Erva, Subarbusto</td>\n",
       "      <td>Nativa</td>\n",
       "      <td>Terrícola</td>\n",
       "      <td>sim</td>\n",
       "    </tr>\n",
       "    <tr>\n",
       "      <th>...</th>\n",
       "      <td>...</td>\n",
       "      <td>...</td>\n",
       "      <td>...</td>\n",
       "      <td>...</td>\n",
       "      <td>...</td>\n",
       "      <td>...</td>\n",
       "      <td>...</td>\n",
       "      <td>...</td>\n",
       "      <td>...</td>\n",
       "    </tr>\n",
       "    <tr>\n",
       "      <th>181</th>\n",
       "      <td>121</td>\n",
       "      <td>NaN</td>\n",
       "      <td>NaN</td>\n",
       "      <td>NaN</td>\n",
       "      <td>NaN</td>\n",
       "      <td>NaN</td>\n",
       "      <td>NaN</td>\n",
       "      <td>NaN</td>\n",
       "      <td>NaN</td>\n",
       "    </tr>\n",
       "    <tr>\n",
       "      <th>182</th>\n",
       "      <td>128</td>\n",
       "      <td>NaN</td>\n",
       "      <td>NaN</td>\n",
       "      <td>NaN</td>\n",
       "      <td>NaN</td>\n",
       "      <td>NaN</td>\n",
       "      <td>NaN</td>\n",
       "      <td>NaN</td>\n",
       "      <td>NaN</td>\n",
       "    </tr>\n",
       "    <tr>\n",
       "      <th>183</th>\n",
       "      <td>165</td>\n",
       "      <td>NaN</td>\n",
       "      <td>NaN</td>\n",
       "      <td>NaN</td>\n",
       "      <td>NaN</td>\n",
       "      <td>NaN</td>\n",
       "      <td>NaN</td>\n",
       "      <td>NaN</td>\n",
       "      <td>NaN</td>\n",
       "    </tr>\n",
       "    <tr>\n",
       "      <th>184</th>\n",
       "      <td>174</td>\n",
       "      <td>NaN</td>\n",
       "      <td>NaN</td>\n",
       "      <td>NaN</td>\n",
       "      <td>NaN</td>\n",
       "      <td>NaN</td>\n",
       "      <td>NaN</td>\n",
       "      <td>NaN</td>\n",
       "      <td>NaN</td>\n",
       "    </tr>\n",
       "    <tr>\n",
       "      <th>185</th>\n",
       "      <td>179</td>\n",
       "      <td>NaN</td>\n",
       "      <td>NaN</td>\n",
       "      <td>NaN</td>\n",
       "      <td>NaN</td>\n",
       "      <td>NaN</td>\n",
       "      <td>NaN</td>\n",
       "      <td>NaN</td>\n",
       "      <td>NaN</td>\n",
       "    </tr>\n",
       "  </tbody>\n",
       "</table>\n",
       "<p>186 rows × 9 columns</p>\n",
       "</div>"
      ],
      "text/plain": [
       "     Número           Família       Gênero              sp           autor  \\\n",
       "0        57               NaN          NaN             NaN             NaN   \n",
       "1        24       Acanthaceae     Justicia  chrysotrichoma   (Nees) Benth.   \n",
       "2       138  Alstroemeriaceae  Altroemeria     stenopetala          Schenk   \n",
       "3        21     Amaranthaceae      Pfaffia        denudata   (Moq.) Kuntze   \n",
       "4       169     Amaranthaceae      Pfaffia        denudata   (Moq.) Kuntze   \n",
       "..      ...               ...          ...             ...             ...   \n",
       "181     121               NaN          NaN             NaN             NaN   \n",
       "182     128               NaN          NaN             NaN             NaN   \n",
       "183     165               NaN          NaN             NaN             NaN   \n",
       "184     174               NaN          NaN             NaN             NaN   \n",
       "185     179               NaN          NaN             NaN             NaN   \n",
       "\n",
       "                        Hábito  Origem  Substrato Endemismo  \n",
       "0                          NaN     NaN        NaN       NaN  \n",
       "1             Erva, Subarbusto  Nativa  Terrícola       sim  \n",
       "2                         Erva  Nativa  Terrícola       sim  \n",
       "3    Arbusto, Erva, Subarbusto  Nativa  Terrícola       sim  \n",
       "4    Arbusto, Erva, Subarbusto  Nativa  Terrícola       sim  \n",
       "..                         ...     ...        ...       ...  \n",
       "181                        NaN     NaN        NaN       NaN  \n",
       "182                        NaN     NaN        NaN       NaN  \n",
       "183                        NaN     NaN        NaN       NaN  \n",
       "184                        NaN     NaN        NaN       NaN  \n",
       "185                        NaN     NaN        NaN       NaN  \n",
       "\n",
       "[186 rows x 9 columns]"
      ]
     },
     "metadata": {},
     "output_type": "display_data"
    },
    {
     "name": "stdout",
     "output_type": "stream",
     "text": [
      "<class 'pandas.core.frame.DataFrame'>\n",
      "RangeIndex: 186 entries, 0 to 185\n",
      "Data columns (total 9 columns):\n",
      " #   Column     Non-Null Count  Dtype \n",
      "---  ------     --------------  ----- \n",
      " 0   Número     186 non-null    int64 \n",
      " 1   Família    177 non-null    object\n",
      " 2   Gênero     168 non-null    object\n",
      " 3   sp         161 non-null    object\n",
      " 4   autor      160 non-null    object\n",
      " 5   Hábito     161 non-null    object\n",
      " 6   Origem     159 non-null    object\n",
      " 7   Substrato  150 non-null    object\n",
      " 8   Endemismo  158 non-null    object\n",
      "dtypes: int64(1), object(8)\n",
      "memory usage: 13.2+ KB\n",
      "None\n",
      "Número        0\n",
      "Família       9\n",
      "Gênero       18\n",
      "sp           25\n",
      "autor        26\n",
      "Hábito       25\n",
      "Origem       27\n",
      "Substrato    36\n",
      "Endemismo    28\n",
      "dtype: int64\n"
     ]
    }
   ],
   "source": [
    "display(dados)\n",
    "\n",
    "print(dados.info())\n",
    "\n",
    "#print(dados.isna().any())\n",
    "print(dados.isna().sum())\n",
    "\n",
    "#dados['Número'] = pd.to_numeric(dados['Número'],errors = 'coerce')"
   ]
  },
  {
   "cell_type": "code",
   "execution_count": 4,
   "metadata": {},
   "outputs": [],
   "source": [
    "# Retirar espaços em branco\n",
    "\n",
    "dados['autor'] = dados['autor'].str.strip()\n",
    "\n",
    "dados = dados.replace({\" \":np.nan})\n"
   ]
  },
  {
   "cell_type": "code",
   "execution_count": 5,
   "metadata": {},
   "outputs": [
    {
     "data": {
      "text/html": [
       "<div>\n",
       "<style scoped>\n",
       "    .dataframe tbody tr th:only-of-type {\n",
       "        vertical-align: middle;\n",
       "    }\n",
       "\n",
       "    .dataframe tbody tr th {\n",
       "        vertical-align: top;\n",
       "    }\n",
       "\n",
       "    .dataframe thead th {\n",
       "        text-align: right;\n",
       "    }\n",
       "</style>\n",
       "<table border=\"1\" class=\"dataframe\">\n",
       "  <thead>\n",
       "    <tr style=\"text-align: right;\">\n",
       "      <th></th>\n",
       "      <th>Número</th>\n",
       "      <th>Família</th>\n",
       "      <th>Gênero</th>\n",
       "      <th>sp</th>\n",
       "      <th>autor</th>\n",
       "      <th>Hábito</th>\n",
       "      <th>Origem</th>\n",
       "      <th>Substrato</th>\n",
       "      <th>Endemismo</th>\n",
       "    </tr>\n",
       "  </thead>\n",
       "  <tbody>\n",
       "    <tr>\n",
       "      <th>0</th>\n",
       "      <td>57</td>\n",
       "      <td>NaN</td>\n",
       "      <td>NaN</td>\n",
       "      <td>NaN</td>\n",
       "      <td>NaN</td>\n",
       "      <td>NaN</td>\n",
       "      <td>NaN</td>\n",
       "      <td>NaN</td>\n",
       "      <td>NaN</td>\n",
       "    </tr>\n",
       "    <tr>\n",
       "      <th>1</th>\n",
       "      <td>24</td>\n",
       "      <td>Acanthaceae</td>\n",
       "      <td>Justicia</td>\n",
       "      <td>chrysotrichoma</td>\n",
       "      <td>(Nees) Benth.</td>\n",
       "      <td>Erva, Subarbusto</td>\n",
       "      <td>Nativa</td>\n",
       "      <td>Terrícola</td>\n",
       "      <td>sim</td>\n",
       "    </tr>\n",
       "    <tr>\n",
       "      <th>2</th>\n",
       "      <td>138</td>\n",
       "      <td>Alstroemeriaceae</td>\n",
       "      <td>Altroemeria</td>\n",
       "      <td>stenopetala</td>\n",
       "      <td>Schenk</td>\n",
       "      <td>Erva</td>\n",
       "      <td>Nativa</td>\n",
       "      <td>Terrícola</td>\n",
       "      <td>sim</td>\n",
       "    </tr>\n",
       "    <tr>\n",
       "      <th>3</th>\n",
       "      <td>21</td>\n",
       "      <td>Amaranthaceae</td>\n",
       "      <td>Pfaffia</td>\n",
       "      <td>denudata</td>\n",
       "      <td>(Moq.) Kuntze</td>\n",
       "      <td>Arbusto, Erva, Subarbusto</td>\n",
       "      <td>Nativa</td>\n",
       "      <td>Terrícola</td>\n",
       "      <td>sim</td>\n",
       "    </tr>\n",
       "    <tr>\n",
       "      <th>4</th>\n",
       "      <td>169</td>\n",
       "      <td>Amaranthaceae</td>\n",
       "      <td>Pfaffia</td>\n",
       "      <td>denudata</td>\n",
       "      <td>(Moq.) Kuntze</td>\n",
       "      <td>Arbusto, Erva, Subarbusto</td>\n",
       "      <td>Nativa</td>\n",
       "      <td>Terrícola</td>\n",
       "      <td>sim</td>\n",
       "    </tr>\n",
       "    <tr>\n",
       "      <th>...</th>\n",
       "      <td>...</td>\n",
       "      <td>...</td>\n",
       "      <td>...</td>\n",
       "      <td>...</td>\n",
       "      <td>...</td>\n",
       "      <td>...</td>\n",
       "      <td>...</td>\n",
       "      <td>...</td>\n",
       "      <td>...</td>\n",
       "    </tr>\n",
       "    <tr>\n",
       "      <th>181</th>\n",
       "      <td>121</td>\n",
       "      <td>NaN</td>\n",
       "      <td>NaN</td>\n",
       "      <td>NaN</td>\n",
       "      <td>NaN</td>\n",
       "      <td>NaN</td>\n",
       "      <td>NaN</td>\n",
       "      <td>NaN</td>\n",
       "      <td>NaN</td>\n",
       "    </tr>\n",
       "    <tr>\n",
       "      <th>182</th>\n",
       "      <td>128</td>\n",
       "      <td>NaN</td>\n",
       "      <td>NaN</td>\n",
       "      <td>NaN</td>\n",
       "      <td>NaN</td>\n",
       "      <td>NaN</td>\n",
       "      <td>NaN</td>\n",
       "      <td>NaN</td>\n",
       "      <td>NaN</td>\n",
       "    </tr>\n",
       "    <tr>\n",
       "      <th>183</th>\n",
       "      <td>165</td>\n",
       "      <td>NaN</td>\n",
       "      <td>NaN</td>\n",
       "      <td>NaN</td>\n",
       "      <td>NaN</td>\n",
       "      <td>NaN</td>\n",
       "      <td>NaN</td>\n",
       "      <td>NaN</td>\n",
       "      <td>NaN</td>\n",
       "    </tr>\n",
       "    <tr>\n",
       "      <th>184</th>\n",
       "      <td>174</td>\n",
       "      <td>NaN</td>\n",
       "      <td>NaN</td>\n",
       "      <td>NaN</td>\n",
       "      <td>NaN</td>\n",
       "      <td>NaN</td>\n",
       "      <td>NaN</td>\n",
       "      <td>NaN</td>\n",
       "      <td>NaN</td>\n",
       "    </tr>\n",
       "    <tr>\n",
       "      <th>185</th>\n",
       "      <td>179</td>\n",
       "      <td>NaN</td>\n",
       "      <td>NaN</td>\n",
       "      <td>NaN</td>\n",
       "      <td>NaN</td>\n",
       "      <td>NaN</td>\n",
       "      <td>NaN</td>\n",
       "      <td>NaN</td>\n",
       "      <td>NaN</td>\n",
       "    </tr>\n",
       "  </tbody>\n",
       "</table>\n",
       "<p>186 rows × 9 columns</p>\n",
       "</div>"
      ],
      "text/plain": [
       "     Número           Família       Gênero              sp          autor  \\\n",
       "0        57               NaN          NaN             NaN            NaN   \n",
       "1        24       Acanthaceae     Justicia  chrysotrichoma  (Nees) Benth.   \n",
       "2       138  Alstroemeriaceae  Altroemeria     stenopetala         Schenk   \n",
       "3        21     Amaranthaceae      Pfaffia        denudata  (Moq.) Kuntze   \n",
       "4       169     Amaranthaceae      Pfaffia        denudata  (Moq.) Kuntze   \n",
       "..      ...               ...          ...             ...            ...   \n",
       "181     121               NaN          NaN             NaN            NaN   \n",
       "182     128               NaN          NaN             NaN            NaN   \n",
       "183     165               NaN          NaN             NaN            NaN   \n",
       "184     174               NaN          NaN             NaN            NaN   \n",
       "185     179               NaN          NaN             NaN            NaN   \n",
       "\n",
       "                        Hábito  Origem  Substrato Endemismo  \n",
       "0                          NaN     NaN        NaN       NaN  \n",
       "1             Erva, Subarbusto  Nativa  Terrícola       sim  \n",
       "2                         Erva  Nativa  Terrícola       sim  \n",
       "3    Arbusto, Erva, Subarbusto  Nativa  Terrícola       sim  \n",
       "4    Arbusto, Erva, Subarbusto  Nativa  Terrícola       sim  \n",
       "..                         ...     ...        ...       ...  \n",
       "181                        NaN     NaN        NaN       NaN  \n",
       "182                        NaN     NaN        NaN       NaN  \n",
       "183                        NaN     NaN        NaN       NaN  \n",
       "184                        NaN     NaN        NaN       NaN  \n",
       "185                        NaN     NaN        NaN       NaN  \n",
       "\n",
       "[186 rows x 9 columns]"
      ]
     },
     "metadata": {},
     "output_type": "display_data"
    }
   ],
   "source": [
    "display(dados)"
   ]
  },
  {
   "cell_type": "code",
   "execution_count": 6,
   "metadata": {},
   "outputs": [],
   "source": [
    "# Excluir linhas sem dado de família\n",
    "# 0 -> exclui linhas, 1 -> exclui colunas\n",
    "dados_com_fam = dados.dropna(subset=['Família'], axis = 0)"
   ]
  },
  {
   "cell_type": "code",
   "execution_count": 7,
   "metadata": {},
   "outputs": [
    {
     "name": "stdout",
     "output_type": "stream",
     "text": [
      "<class 'pandas.core.frame.DataFrame'>\n",
      "Int64Index: 168 entries, 1 to 177\n",
      "Data columns (total 9 columns):\n",
      " #   Column     Non-Null Count  Dtype \n",
      "---  ------     --------------  ----- \n",
      " 0   Número     168 non-null    int64 \n",
      " 1   Família    168 non-null    object\n",
      " 2   Gênero     168 non-null    object\n",
      " 3   sp         161 non-null    object\n",
      " 4   autor      160 non-null    object\n",
      " 5   Hábito     156 non-null    object\n",
      " 6   Origem     159 non-null    object\n",
      " 7   Substrato  150 non-null    object\n",
      " 8   Endemismo  158 non-null    object\n",
      "dtypes: int64(1), object(8)\n",
      "memory usage: 13.1+ KB\n",
      "None\n"
     ]
    }
   ],
   "source": [
    "dados_com_gen = dados.dropna(subset=['Gênero'], axis = 0)\n",
    "#display(dados_com_gen)\n",
    "print(dados_com_gen.info())"
   ]
  },
  {
   "cell_type": "code",
   "execution_count": 8,
   "metadata": {},
   "outputs": [
    {
     "name": "stdout",
     "output_type": "stream",
     "text": [
      "<class 'pandas.core.frame.DataFrame'>\n",
      "Int64Index: 168 entries, 1 to 177\n",
      "Data columns (total 9 columns):\n",
      " #   Column     Non-Null Count  Dtype \n",
      "---  ------     --------------  ----- \n",
      " 0   Número     168 non-null    int64 \n",
      " 1   Família    168 non-null    object\n",
      " 2   Gênero     168 non-null    object\n",
      " 3   sp         168 non-null    object\n",
      " 4   autor      160 non-null    object\n",
      " 5   Hábito     156 non-null    object\n",
      " 6   Origem     159 non-null    object\n",
      " 7   Substrato  150 non-null    object\n",
      " 8   Endemismo  158 non-null    object\n",
      "dtypes: int64(1), object(8)\n",
      "memory usage: 13.1+ KB\n",
      "None\n"
     ]
    },
    {
     "name": "stderr",
     "output_type": "stream",
     "text": [
      "C:\\Users\\cardi\\AppData\\Local\\Temp\\ipykernel_15516\\1130625755.py:2: SettingWithCopyWarning: \n",
      "A value is trying to be set on a copy of a slice from a DataFrame.\n",
      "Try using .loc[row_indexer,col_indexer] = value instead\n",
      "\n",
      "See the caveats in the documentation: https://pandas.pydata.org/pandas-docs/stable/user_guide/indexing.html#returning-a-view-versus-a-copy\n",
      "  dados_com_gen[\"sp\"] = dados_com_gen[\"sp\"].fillna('sp.')\n"
     ]
    }
   ],
   "source": [
    "#Adicionar 'sp.' nos gêneros sem espécies\n",
    "dados_com_gen[\"sp\"] = dados_com_gen[\"sp\"].fillna('sp.')\n",
    "print(dados_com_gen.info())"
   ]
  },
  {
   "cell_type": "code",
   "execution_count": 9,
   "metadata": {},
   "outputs": [
    {
     "data": {
      "text/html": [
       "<div>\n",
       "<style scoped>\n",
       "    .dataframe tbody tr th:only-of-type {\n",
       "        vertical-align: middle;\n",
       "    }\n",
       "\n",
       "    .dataframe tbody tr th {\n",
       "        vertical-align: top;\n",
       "    }\n",
       "\n",
       "    .dataframe thead th {\n",
       "        text-align: right;\n",
       "    }\n",
       "</style>\n",
       "<table border=\"1\" class=\"dataframe\">\n",
       "  <thead>\n",
       "    <tr style=\"text-align: right;\">\n",
       "      <th></th>\n",
       "      <th>Número</th>\n",
       "      <th>Família</th>\n",
       "      <th>Gênero</th>\n",
       "      <th>sp</th>\n",
       "      <th>autor</th>\n",
       "      <th>Hábito</th>\n",
       "      <th>Origem</th>\n",
       "      <th>Substrato</th>\n",
       "      <th>Endemismo</th>\n",
       "    </tr>\n",
       "  </thead>\n",
       "  <tbody>\n",
       "    <tr>\n",
       "      <th>3</th>\n",
       "      <td>21</td>\n",
       "      <td>Amaranthaceae</td>\n",
       "      <td>Pfaffia</td>\n",
       "      <td>denudata</td>\n",
       "      <td>(Moq.) Kuntze</td>\n",
       "      <td>Arbusto, Erva, Subarbusto</td>\n",
       "      <td>Nativa</td>\n",
       "      <td>Terrícola</td>\n",
       "      <td>sim</td>\n",
       "    </tr>\n",
       "    <tr>\n",
       "      <th>4</th>\n",
       "      <td>169</td>\n",
       "      <td>Amaranthaceae</td>\n",
       "      <td>Pfaffia</td>\n",
       "      <td>denudata</td>\n",
       "      <td>(Moq.) Kuntze</td>\n",
       "      <td>Arbusto, Erva, Subarbusto</td>\n",
       "      <td>Nativa</td>\n",
       "      <td>Terrícola</td>\n",
       "      <td>sim</td>\n",
       "    </tr>\n",
       "  </tbody>\n",
       "</table>\n",
       "</div>"
      ],
      "text/plain": [
       "   Número        Família   Gênero        sp          autor  \\\n",
       "3      21  Amaranthaceae  Pfaffia  denudata  (Moq.) Kuntze   \n",
       "4     169  Amaranthaceae  Pfaffia  denudata  (Moq.) Kuntze   \n",
       "\n",
       "                      Hábito  Origem  Substrato Endemismo  \n",
       "3  Arbusto, Erva, Subarbusto  Nativa  Terrícola       sim  \n",
       "4  Arbusto, Erva, Subarbusto  Nativa  Terrícola       sim  "
      ]
     },
     "execution_count": 9,
     "metadata": {},
     "output_type": "execute_result"
    }
   ],
   "source": [
    "#Selecionanado linhas específicas para conferência\n",
    "\n",
    "dados_com_gen.loc[dados_com_gen.Família == 'Amaranthaceae']"
   ]
  },
  {
   "cell_type": "code",
   "execution_count": 10,
   "metadata": {},
   "outputs": [
    {
     "data": {
      "text/html": [
       "<div>\n",
       "<style scoped>\n",
       "    .dataframe tbody tr th:only-of-type {\n",
       "        vertical-align: middle;\n",
       "    }\n",
       "\n",
       "    .dataframe tbody tr th {\n",
       "        vertical-align: top;\n",
       "    }\n",
       "\n",
       "    .dataframe thead th {\n",
       "        text-align: right;\n",
       "    }\n",
       "</style>\n",
       "<table border=\"1\" class=\"dataframe\">\n",
       "  <thead>\n",
       "    <tr style=\"text-align: right;\">\n",
       "      <th></th>\n",
       "      <th>Família</th>\n",
       "      <th>Gênero</th>\n",
       "      <th>sp</th>\n",
       "      <th>counts</th>\n",
       "    </tr>\n",
       "  </thead>\n",
       "  <tbody>\n",
       "    <tr>\n",
       "      <th>0</th>\n",
       "      <td>Acanthaceae</td>\n",
       "      <td>Justicia</td>\n",
       "      <td>chrysotrichoma</td>\n",
       "      <td>1</td>\n",
       "    </tr>\n",
       "    <tr>\n",
       "      <th>1</th>\n",
       "      <td>Alstroemeriaceae</td>\n",
       "      <td>Altroemeria</td>\n",
       "      <td>stenopetala</td>\n",
       "      <td>1</td>\n",
       "    </tr>\n",
       "    <tr>\n",
       "      <th>2</th>\n",
       "      <td>Amaranthaceae</td>\n",
       "      <td>Pfaffia</td>\n",
       "      <td>denudata</td>\n",
       "      <td>2</td>\n",
       "    </tr>\n",
       "    <tr>\n",
       "      <th>3</th>\n",
       "      <td>Anacardiaceae</td>\n",
       "      <td>Tapirira</td>\n",
       "      <td>guianensis</td>\n",
       "      <td>1</td>\n",
       "    </tr>\n",
       "    <tr>\n",
       "      <th>4</th>\n",
       "      <td>Anemiaceae</td>\n",
       "      <td>Anemia</td>\n",
       "      <td>presliana</td>\n",
       "      <td>1</td>\n",
       "    </tr>\n",
       "    <tr>\n",
       "      <th>...</th>\n",
       "      <td>...</td>\n",
       "      <td>...</td>\n",
       "      <td>...</td>\n",
       "      <td>...</td>\n",
       "    </tr>\n",
       "    <tr>\n",
       "      <th>130</th>\n",
       "      <td>Thelypteridaceae</td>\n",
       "      <td>Christella</td>\n",
       "      <td>sp.</td>\n",
       "      <td>1</td>\n",
       "    </tr>\n",
       "    <tr>\n",
       "      <th>131</th>\n",
       "      <td>Urticaceae</td>\n",
       "      <td>Cecropia</td>\n",
       "      <td>pachystachya</td>\n",
       "      <td>1</td>\n",
       "    </tr>\n",
       "    <tr>\n",
       "      <th>132</th>\n",
       "      <td>Verbenaceae</td>\n",
       "      <td>Lippia</td>\n",
       "      <td>stachynoides var. martiana</td>\n",
       "      <td>1</td>\n",
       "    </tr>\n",
       "    <tr>\n",
       "      <th>133</th>\n",
       "      <td>Verbenaceae</td>\n",
       "      <td>Lippia</td>\n",
       "      <td>vernonioides</td>\n",
       "      <td>1</td>\n",
       "    </tr>\n",
       "    <tr>\n",
       "      <th>134</th>\n",
       "      <td>Verbenaceae</td>\n",
       "      <td>Stachytarpheta</td>\n",
       "      <td>villosa</td>\n",
       "      <td>2</td>\n",
       "    </tr>\n",
       "  </tbody>\n",
       "</table>\n",
       "<p>135 rows × 4 columns</p>\n",
       "</div>"
      ],
      "text/plain": [
       "              Família           Gênero                          sp  counts\n",
       "0         Acanthaceae         Justicia              chrysotrichoma       1\n",
       "1    Alstroemeriaceae      Altroemeria                 stenopetala       1\n",
       "2       Amaranthaceae          Pfaffia                    denudata       2\n",
       "3       Anacardiaceae         Tapirira                  guianensis       1\n",
       "4          Anemiaceae           Anemia                   presliana       1\n",
       "..                ...              ...                         ...     ...\n",
       "130  Thelypteridaceae       Christella                         sp.       1\n",
       "131        Urticaceae         Cecropia                pachystachya       1\n",
       "132       Verbenaceae           Lippia  stachynoides var. martiana       1\n",
       "133       Verbenaceae           Lippia                vernonioides       1\n",
       "134       Verbenaceae  Stachytarpheta                      villosa       2\n",
       "\n",
       "[135 rows x 4 columns]"
      ]
     },
     "metadata": {},
     "output_type": "display_data"
    }
   ],
   "source": [
    "dados_agrupados = dados_com_gen.groupby(['Família','Gênero','sp'])['sp'].count().reset_index(name='counts')\n",
    "display(dados_agrupados)"
   ]
  },
  {
   "cell_type": "code",
   "execution_count": 13,
   "metadata": {},
   "outputs": [],
   "source": [
    "grouped_fam = dados_agrupados.groupby([\"Família\"])['Família'].count().reset_index(name='counts')\n",
    "grouped_fam = grouped_fam.sort_values(by=['counts'], ascending=False)\n",
    "\n",
    "grouped_fam['%'] = 100*grouped_fam['counts']/grouped_fam['counts'].sum()\n",
    "\n",
    "#print(grouped_fam)"
   ]
  },
  {
   "cell_type": "code",
   "execution_count": 14,
   "metadata": {},
   "outputs": [
    {
     "name": "stdout",
     "output_type": "stream",
     "text": [
      "             Família  counts          %\n",
      "9         Asteraceae      17  12.592593\n",
      "19          Fabaceae      16  11.851852\n",
      "25     Malpighiaceae      11   8.148148\n",
      "27   Melastomataceae       7   5.185185\n",
      "38         Rubiaceae       6   4.444444\n",
      "34           Poaceae       5   3.703704\n",
      "18     Euphorbiaceae       5   3.703704\n",
      "22         Lamiaceae       4   2.962963\n",
      "46       Verbenaceae       3   2.222222\n",
      "14        Cyperaceae       3   2.222222\n",
      "28         Myrtaceae       3   2.222222\n",
      "26         Malvaceae       3   2.222222\n",
      "33        Piperaceae       3   2.222222\n",
      "35      Polygalaceae       3   2.222222\n",
      "37       Pteridaceae       3   2.222222\n",
      "10      Bignoniaceae       3   2.222222\n",
      "44  Thelypteridaceae       3   2.222222\n",
      "17   Erythroxylaceae       2   1.481481\n",
      "39        Salicaceae       2   1.481481\n",
      "11       Blechnaceae       2   1.481481\n",
      "7         Araliaceae       2   1.481481\n",
      "43       Styracaceae       2   1.481481\n",
      "29     Nyctaginaceae       2   1.481481\n",
      "30         Ochnaceae       2   1.481481\n",
      "31        Opiliaceae       1   0.740741\n",
      "36        Proteaceae       1   0.740741\n",
      "40       Sapindaceae       1   0.740741\n",
      "41   Selaginellaceae       1   0.740741\n",
      "32       Oxalidaceae       1   0.740741\n",
      "42       Smilacaceae       1   0.740741\n",
      "45        Urticaceae       1   0.740741\n",
      "0        Acanthaceae       1   0.740741\n",
      "24        Lythraceae       1   0.740741\n",
      "1   Alstroemeriaceae       1   0.740741\n",
      "21  Hymenophyllaceae       1   0.740741\n",
      "20     Gleicheniacea       1   0.740741\n",
      "16     Dioscoreaceae       1   0.740741\n",
      "15      Dilleniaceae       1   0.740741\n",
      "13     Commelinaceae       1   0.740741\n",
      "12        Clusiaceae       1   0.740741\n",
      "8          Arecaceae       1   0.740741\n",
      "6           Apiaceae       1   0.740741\n",
      "5         Annonaceae       1   0.740741\n",
      "4         Anemiaceae       1   0.740741\n",
      "3      Anacardiaceae       1   0.740741\n",
      "2      Amaranthaceae       1   0.740741\n",
      "23      Loranthaceae       1   0.740741\n"
     ]
    }
   ],
   "source": [
    "print(grouped_fam)\n"
   ]
  },
  {
   "cell_type": "code",
   "execution_count": 16,
   "metadata": {},
   "outputs": [
    {
     "data": {
      "image/png": "[encoded data removed]",
      "text/plain": [
       "<Figure size 1100x400 with 1 Axes>"
      ]
     },
     "metadata": {},
     "output_type": "display_data"
    }
   ],
   "source": [
    "# Gráfico da proporção de espécies por família\n",
    "fig, ax = plt.subplots()\n",
    "\n",
    "ax.bar(grouped_fam['Família'],grouped_fam['%'], width=1, edgecolor=\"white\", linewidth=0.7, color='black')\n",
    "\n",
    "ax.set(ylim=(0, 15), yticks=np.arange(1,15,2))\n",
    "\n",
    "ax.set_ylabel('Número de espécies (%)')\n",
    "ax.set_xlabel('Famílias')\n",
    "ax.set_title('Proporção de espécies por famílias')\n",
    "\n",
    "fig.set_size_inches(11, 4)\n",
    "\n",
    "labels = ax.get_xticklabels()\n",
    "plt.setp(labels, rotation=90, horizontalalignment='center')\n",
    "plt.savefig('prop_familias', bbox_inches='tight')\n",
    "plt.show()"
   ]
  },
  {
   "cell_type": "code",
   "execution_count": 19,
   "metadata": {},
   "outputs": [
    {
     "data": {
      "image/png": "[encoded data removed]",
      "text/plain": [
       "<Figure size 640x480 with 1 Axes>"
      ]
     },
     "metadata": {},
     "output_type": "display_data"
    }
   ],
   "source": [
    "fig, axs = plt.subplots()\n",
    "\n",
    "axs.set_ylabel('Número de famílias')\n",
    "axs.set_xlabel('Número de espécies')\n",
    "\n",
    "axs.set(xlim=(0, 18), xticks=np.arange(1,18,4))\n",
    "\n",
    "\n",
    "# We can set the number of bins with the *bins* keyword argument.\n",
    "\n",
    "axs.hist(grouped_fam['counts'], bins=np.arange(1, 18, 4), color='black')\n",
    "plt.savefig('hist_familia', bbox_inches='tight')"
   ]
  },
  {
   "cell_type": "code",
   "execution_count": 16,
   "metadata": {},
   "outputs": [],
   "source": [
    "num_esp = grouped_fam['counts'].sum()\n",
    "num_fam = grouped_fam['Família'].nunique()"
   ]
  },
  {
   "cell_type": "code",
   "execution_count": 17,
   "metadata": {},
   "outputs": [],
   "source": [
    "grouped_gen = dados_agrupados.groupby([\"Gênero\"])['Gênero'].count().reset_index(name='counts')\n",
    "num_gen = grouped_gen['Gênero'].nunique()"
   ]
  },
  {
   "cell_type": "code",
   "execution_count": 18,
   "metadata": {},
   "outputs": [
    {
     "name": "stdout",
     "output_type": "stream",
     "text": [
      "Número de famílias: 47\n",
      "Número de espécies: 135\n",
      "Número de gêneros: 90\n"
     ]
    }
   ],
   "source": [
    "print(f'Número de famílias: {num_fam}')\n",
    "print(f'Número de espécies: {num_esp}')\n",
    "print(f'Número de gêneros: {num_gen}')"
   ]
  },
  {
   "cell_type": "code",
   "execution_count": 19,
   "metadata": {},
   "outputs": [
    {
     "name": "stdout",
     "output_type": "stream",
     "text": [
      "           Gênero  counts\n",
      "0     Abrodictyum       1\n",
      "1        Adiantum       2\n",
      "2       Agonandra       1\n",
      "3       Alchornea       1\n",
      "4     Altroemeria       1\n",
      "..            ...     ...\n",
      "85     Tibouchina       1\n",
      "86  Vernonanthura       1\n",
      "87        Wedelia       1\n",
      "88        Youngia       1\n",
      "89   erythroxylum       1\n",
      "\n",
      "[90 rows x 2 columns]\n"
     ]
    }
   ],
   "source": [
    "print(grouped_gen)"
   ]
  },
  {
   "cell_type": "code",
   "execution_count": 20,
   "metadata": {},
   "outputs": [
    {
     "data": {
      "image/png": "[encoded data removed]",
      "text/plain": [
       "<Figure size 640x480 with 1 Axes>"
      ]
     },
     "metadata": {},
     "output_type": "display_data"
    }
   ],
   "source": [
    "fig, axs = plt.subplots()\n",
    "\n",
    "axs.set_ylabel('Número de gêneros')\n",
    "axs.set_xlabel('Número de especies')\n",
    "\n",
    "axs.hist(grouped_gen['counts'], bins=np.arange(1, 7, 1), color='black')\n",
    "\n",
    "plt.savefig('hist_genero', bbox_inches='tight')"
   ]
  },
  {
   "cell_type": "code",
   "execution_count": 21,
   "metadata": {},
   "outputs": [
    {
     "data": {
      "text/html": [
       "<div>\n",
       "<style scoped>\n",
       "    .dataframe tbody tr th:only-of-type {\n",
       "        vertical-align: middle;\n",
       "    }\n",
       "\n",
       "    .dataframe tbody tr th {\n",
       "        vertical-align: top;\n",
       "    }\n",
       "\n",
       "    .dataframe thead th {\n",
       "        text-align: right;\n",
       "    }\n",
       "</style>\n",
       "<table border=\"1\" class=\"dataframe\">\n",
       "  <thead>\n",
       "    <tr style=\"text-align: right;\">\n",
       "      <th></th>\n",
       "      <th>Família</th>\n",
       "      <th>Gênero</th>\n",
       "      <th>sp</th>\n",
       "      <th>Hábito</th>\n",
       "      <th>Origem</th>\n",
       "      <th>Substrato</th>\n",
       "      <th>Endemismo</th>\n",
       "      <th>counts</th>\n",
       "    </tr>\n",
       "  </thead>\n",
       "  <tbody>\n",
       "    <tr>\n",
       "      <th>0</th>\n",
       "      <td>Acanthaceae</td>\n",
       "      <td>Justicia</td>\n",
       "      <td>chrysotrichoma</td>\n",
       "      <td>Erva, Subarbusto</td>\n",
       "      <td>Nativa</td>\n",
       "      <td>Terrícola</td>\n",
       "      <td>sim</td>\n",
       "      <td>1</td>\n",
       "    </tr>\n",
       "    <tr>\n",
       "      <th>1</th>\n",
       "      <td>Alstroemeriaceae</td>\n",
       "      <td>Altroemeria</td>\n",
       "      <td>stenopetala</td>\n",
       "      <td>Erva</td>\n",
       "      <td>Nativa</td>\n",
       "      <td>Terrícola</td>\n",
       "      <td>sim</td>\n",
       "      <td>1</td>\n",
       "    </tr>\n",
       "    <tr>\n",
       "      <th>2</th>\n",
       "      <td>Amaranthaceae</td>\n",
       "      <td>Pfaffia</td>\n",
       "      <td>denudata</td>\n",
       "      <td>Arbusto, Erva, Subarbusto</td>\n",
       "      <td>Nativa</td>\n",
       "      <td>Terrícola</td>\n",
       "      <td>sim</td>\n",
       "      <td>2</td>\n",
       "    </tr>\n",
       "    <tr>\n",
       "      <th>3</th>\n",
       "      <td>Anacardiaceae</td>\n",
       "      <td>Tapirira</td>\n",
       "      <td>guianensis</td>\n",
       "      <td>Árvore</td>\n",
       "      <td>Nativa</td>\n",
       "      <td>Terrícola</td>\n",
       "      <td>não</td>\n",
       "      <td>1</td>\n",
       "    </tr>\n",
       "    <tr>\n",
       "      <th>4</th>\n",
       "      <td>Annonaceae</td>\n",
       "      <td>Annona</td>\n",
       "      <td>tomentosa</td>\n",
       "      <td>Arbusto, Subarbusto</td>\n",
       "      <td>Nativa</td>\n",
       "      <td>Terrícola</td>\n",
       "      <td>não</td>\n",
       "      <td>1</td>\n",
       "    </tr>\n",
       "    <tr>\n",
       "      <th>...</th>\n",
       "      <td>...</td>\n",
       "      <td>...</td>\n",
       "      <td>...</td>\n",
       "      <td>...</td>\n",
       "      <td>...</td>\n",
       "      <td>...</td>\n",
       "      <td>...</td>\n",
       "      <td>...</td>\n",
       "    </tr>\n",
       "    <tr>\n",
       "      <th>114</th>\n",
       "      <td>Thelypteridaceae</td>\n",
       "      <td>Christella</td>\n",
       "      <td>hispidula</td>\n",
       "      <td>Erva</td>\n",
       "      <td>Nativa</td>\n",
       "      <td>Terrícola</td>\n",
       "      <td>não</td>\n",
       "      <td>1</td>\n",
       "    </tr>\n",
       "    <tr>\n",
       "      <th>115</th>\n",
       "      <td>Urticaceae</td>\n",
       "      <td>Cecropia</td>\n",
       "      <td>pachystachya</td>\n",
       "      <td>Árvore</td>\n",
       "      <td>Nativa</td>\n",
       "      <td>Terrícola</td>\n",
       "      <td>não</td>\n",
       "      <td>1</td>\n",
       "    </tr>\n",
       "    <tr>\n",
       "      <th>116</th>\n",
       "      <td>Verbenaceae</td>\n",
       "      <td>Lippia</td>\n",
       "      <td>stachynoides var. martiana</td>\n",
       "      <td>Arbusto, Subarbusto</td>\n",
       "      <td>Nativa</td>\n",
       "      <td>Terrícola</td>\n",
       "      <td>sim</td>\n",
       "      <td>1</td>\n",
       "    </tr>\n",
       "    <tr>\n",
       "      <th>117</th>\n",
       "      <td>Verbenaceae</td>\n",
       "      <td>Lippia</td>\n",
       "      <td>vernonioides</td>\n",
       "      <td>Arbusto</td>\n",
       "      <td>Nativa</td>\n",
       "      <td>Terrícola</td>\n",
       "      <td>sim</td>\n",
       "      <td>1</td>\n",
       "    </tr>\n",
       "    <tr>\n",
       "      <th>118</th>\n",
       "      <td>Verbenaceae</td>\n",
       "      <td>Stachytarpheta</td>\n",
       "      <td>villosa</td>\n",
       "      <td>Arbusto</td>\n",
       "      <td>Nativa</td>\n",
       "      <td>Terrícola</td>\n",
       "      <td>sim</td>\n",
       "      <td>2</td>\n",
       "    </tr>\n",
       "  </tbody>\n",
       "</table>\n",
       "<p>119 rows × 8 columns</p>\n",
       "</div>"
      ],
      "text/plain": [
       "              Família           Gênero                          sp  \\\n",
       "0         Acanthaceae         Justicia              chrysotrichoma   \n",
       "1    Alstroemeriaceae      Altroemeria                 stenopetala   \n",
       "2       Amaranthaceae          Pfaffia                    denudata   \n",
       "3       Anacardiaceae         Tapirira                  guianensis   \n",
       "4          Annonaceae           Annona                   tomentosa   \n",
       "..                ...              ...                         ...   \n",
       "114  Thelypteridaceae       Christella                   hispidula   \n",
       "115        Urticaceae         Cecropia                pachystachya   \n",
       "116       Verbenaceae           Lippia  stachynoides var. martiana   \n",
       "117       Verbenaceae           Lippia                vernonioides   \n",
       "118       Verbenaceae  Stachytarpheta                      villosa   \n",
       "\n",
       "                        Hábito  Origem  Substrato Endemismo  counts  \n",
       "0             Erva, Subarbusto  Nativa  Terrícola       sim       1  \n",
       "1                         Erva  Nativa  Terrícola       sim       1  \n",
       "2    Arbusto, Erva, Subarbusto  Nativa  Terrícola       sim       2  \n",
       "3                       Árvore  Nativa  Terrícola       não       1  \n",
       "4          Arbusto, Subarbusto  Nativa  Terrícola       não       1  \n",
       "..                         ...     ...        ...       ...     ...  \n",
       "114                       Erva  Nativa  Terrícola       não       1  \n",
       "115                     Árvore  Nativa  Terrícola       não       1  \n",
       "116        Arbusto, Subarbusto  Nativa  Terrícola       sim       1  \n",
       "117                    Arbusto  Nativa  Terrícola       sim       1  \n",
       "118                    Arbusto  Nativa  Terrícola       sim       2  \n",
       "\n",
       "[119 rows x 8 columns]"
      ]
     },
     "metadata": {},
     "output_type": "display_data"
    }
   ],
   "source": [
    "dados_agrupados2 = dados_com_gen.groupby(['Família','Gênero','sp','Hábito','Origem','Substrato','Endemismo'])['sp'].count().reset_index(name='counts')\n",
    "display(dados_agrupados2)"
   ]
  },
  {
   "cell_type": "code",
   "execution_count": 22,
   "metadata": {},
   "outputs": [
    {
     "data": {
      "text/plain": [
       "array(['Erva, Subarbusto', 'Erva', 'Arbusto, Erva, Subarbusto', 'Árvore',\n",
       "       'Arbusto, Subarbusto', 'Arbusto,Árvore', 'Palmeira', 'Arbusto',\n",
       "       'Liana/volúvel/trepadeira', 'Subarbusto',\n",
       "       'Arbusto, Árvore, Subarbusto', 'Arbusto, Árvore',\n",
       "       'Arbusto, árvore', 'Arbusto, subarbusto',\n",
       "       'Liana/volúvel/trepadeira, Subarbusto'], dtype=object)"
      ]
     },
     "metadata": {},
     "output_type": "display_data"
    }
   ],
   "source": [
    "#dados_agrupados2.loc[dados_agrupados2.Família == 'Poaceae']\n",
    "#print(dados_agrupados2.info())\n",
    "\n",
    "display(dados_agrupados2['Hábito'].unique())\n",
    "#print(dados_agrupados2.at[1,'Gênero'])\n",
    "#print(dados_agrupados2.iloc[1,1])"
   ]
  },
  {
   "cell_type": "code",
   "execution_count": 23,
   "metadata": {},
   "outputs": [],
   "source": [
    "sub = {'Erva, Subarbusto':'Subarbusto', 'Arbusto, Erva, Subarbusto':'Arbusto', 'Arbusto, Subarbusto':'Arbusto',\n",
    "       'Arbusto,Árvore':'Árvore', 'Arbusto, Árvore, Subarbusto':'Árvore','Arbusto, Árvore':'Árvore','Arbusto, árvore':'Árvore',\n",
    "       'Arbusto, subarbusto':'Arbusto', 'Liana/volúvel/trepadeira, Subarbusto':'Subarbusto','Liana/volúvel/trepadeira':'Liana'}\n",
    "dados_agrupados2 = dados_agrupados2.replace(sub)"
   ]
  },
  {
   "cell_type": "code",
   "execution_count": 28,
   "metadata": {},
   "outputs": [
    {
     "data": {
      "text/plain": [
       "array(['Subarbusto', 'Erva', 'Arbusto', 'Árvore', 'Palmeira', 'Liana'],\n",
       "      dtype=object)"
      ]
     },
     "metadata": {},
     "output_type": "display_data"
    },
    {
     "data": {
      "text/html": [
       "<div>\n",
       "<style scoped>\n",
       "    .dataframe tbody tr th:only-of-type {\n",
       "        vertical-align: middle;\n",
       "    }\n",
       "\n",
       "    .dataframe tbody tr th {\n",
       "        vertical-align: top;\n",
       "    }\n",
       "\n",
       "    .dataframe thead th {\n",
       "        text-align: right;\n",
       "    }\n",
       "</style>\n",
       "<table border=\"1\" class=\"dataframe\">\n",
       "  <thead>\n",
       "    <tr style=\"text-align: right;\">\n",
       "      <th></th>\n",
       "      <th>Hábito</th>\n",
       "      <th>frequência</th>\n",
       "    </tr>\n",
       "  </thead>\n",
       "  <tbody>\n",
       "    <tr>\n",
       "      <th>0</th>\n",
       "      <td>Arbusto</td>\n",
       "      <td>37</td>\n",
       "    </tr>\n",
       "    <tr>\n",
       "      <th>5</th>\n",
       "      <td>Árvore</td>\n",
       "      <td>36</td>\n",
       "    </tr>\n",
       "    <tr>\n",
       "      <th>1</th>\n",
       "      <td>Erva</td>\n",
       "      <td>22</td>\n",
       "    </tr>\n",
       "    <tr>\n",
       "      <th>4</th>\n",
       "      <td>Subarbusto</td>\n",
       "      <td>17</td>\n",
       "    </tr>\n",
       "    <tr>\n",
       "      <th>2</th>\n",
       "      <td>Liana</td>\n",
       "      <td>6</td>\n",
       "    </tr>\n",
       "    <tr>\n",
       "      <th>3</th>\n",
       "      <td>Palmeira</td>\n",
       "      <td>1</td>\n",
       "    </tr>\n",
       "  </tbody>\n",
       "</table>\n",
       "</div>"
      ],
      "text/plain": [
       "       Hábito  frequência\n",
       "0     Arbusto          37\n",
       "5      Árvore          36\n",
       "1        Erva          22\n",
       "4  Subarbusto          17\n",
       "2       Liana           6\n",
       "3    Palmeira           1"
      ]
     },
     "metadata": {},
     "output_type": "display_data"
    }
   ],
   "source": [
    "grouped_hab = dados_agrupados2.groupby(['Hábito'])['sp'].count().reset_index(name='frequência')\n",
    "grouped_hab = grouped_hab.sort_values(by=['frequência'], ascending=False)\n",
    "display(dados_agrupados2['Hábito'].unique())\n",
    "display(grouped_hab)"
   ]
  },
  {
   "cell_type": "code",
   "execution_count": 29,
   "metadata": {},
   "outputs": [
    {
     "data": {
      "image/png": "[encoded data removed]",
      "text/plain": [
       "<Figure size 640x480 with 1 Axes>"
      ]
     },
     "metadata": {},
     "output_type": "display_data"
    }
   ],
   "source": [
    "fig, axs = plt.subplots()\n",
    "\n",
    "axs.set_ylabel('Número de espécies')\n",
    "axs.set_xlabel('Hábito')\n",
    "\n",
    "axs.bar(x=grouped_hab.Hábito, height=grouped_hab.frequência, color = 'black')\n",
    "#axs.hist(dados_agrupados2['Hábito'], color='black')\n",
    "\n",
    "plt.savefig('hist_habito', bbox_inches='tight')"
   ]
  },
  {
   "cell_type": "code",
   "execution_count": 30,
   "metadata": {},
   "outputs": [
    {
     "data": {
      "text/plain": [
       "array(['Terrícola', 'Rupícola,Terrícola', 'Rupícola, Terrícola',\n",
       "       'Aquática, Terrícola', 'Hemiparasita'], dtype=object)"
      ]
     },
     "metadata": {},
     "output_type": "display_data"
    }
   ],
   "source": [
    "display(dados_agrupados2['Substrato'].unique())"
   ]
  },
  {
   "cell_type": "code",
   "execution_count": 31,
   "metadata": {},
   "outputs": [],
   "source": [
    "sub = {'Rupícola,Terrícola':'Rupícola, Terrícola'}\n",
    "dados_agrupados2 = dados_agrupados2.replace(sub)"
   ]
  },
  {
   "cell_type": "code",
   "execution_count": 32,
   "metadata": {},
   "outputs": [
    {
     "data": {
      "text/plain": [
       "array(['Terrícola', 'Rupícola, Terrícola', 'Aquática, Terrícola',\n",
       "       'Hemiparasita'], dtype=object)"
      ]
     },
     "metadata": {},
     "output_type": "display_data"
    },
    {
     "data": {
      "text/html": [
       "<div>\n",
       "<style scoped>\n",
       "    .dataframe tbody tr th:only-of-type {\n",
       "        vertical-align: middle;\n",
       "    }\n",
       "\n",
       "    .dataframe tbody tr th {\n",
       "        vertical-align: top;\n",
       "    }\n",
       "\n",
       "    .dataframe thead th {\n",
       "        text-align: right;\n",
       "    }\n",
       "</style>\n",
       "<table border=\"1\" class=\"dataframe\">\n",
       "  <thead>\n",
       "    <tr style=\"text-align: right;\">\n",
       "      <th></th>\n",
       "      <th>Substrato</th>\n",
       "      <th>frequência</th>\n",
       "    </tr>\n",
       "  </thead>\n",
       "  <tbody>\n",
       "    <tr>\n",
       "      <th>3</th>\n",
       "      <td>Terrícola</td>\n",
       "      <td>107</td>\n",
       "    </tr>\n",
       "    <tr>\n",
       "      <th>2</th>\n",
       "      <td>Rupícola, Terrícola</td>\n",
       "      <td>9</td>\n",
       "    </tr>\n",
       "    <tr>\n",
       "      <th>0</th>\n",
       "      <td>Aquática, Terrícola</td>\n",
       "      <td>2</td>\n",
       "    </tr>\n",
       "    <tr>\n",
       "      <th>1</th>\n",
       "      <td>Hemiparasita</td>\n",
       "      <td>1</td>\n",
       "    </tr>\n",
       "  </tbody>\n",
       "</table>\n",
       "</div>"
      ],
      "text/plain": [
       "             Substrato  frequência\n",
       "3            Terrícola         107\n",
       "2  Rupícola, Terrícola           9\n",
       "0  Aquática, Terrícola           2\n",
       "1         Hemiparasita           1"
      ]
     },
     "metadata": {},
     "output_type": "display_data"
    }
   ],
   "source": [
    "grouped_subs = dados_agrupados2.groupby(['Substrato'])['sp'].count().reset_index(name='frequência')\n",
    "grouped_subs = grouped_subs.sort_values(by = ['frequência'], ascending=False)\n",
    "display(dados_agrupados2['Substrato'].unique())\n",
    "display(grouped_subs)"
   ]
  },
  {
   "cell_type": "code",
   "execution_count": 33,
   "metadata": {},
   "outputs": [
    {
     "data": {
      "image/png": "[encoded data removed]",
      "text/plain": [
       "<Figure size 640x480 with 1 Axes>"
      ]
     },
     "metadata": {},
     "output_type": "display_data"
    }
   ],
   "source": [
    "fig, axs = plt.subplots()\n",
    "\n",
    "axs.set_ylabel('Número de espécies')\n",
    "axs.set_xlabel('Substrato')\n",
    "\n",
    "axs.bar(x=grouped_subs.Substrato, height=grouped_subs.frequência, color = 'black')\n",
    "#axs.hist(dados_agrupados2['Hábito'], color='black')\n",
    "\n",
    "plt.savefig('hist_substrato', bbox_inches='tight')"
   ]
  },
  {
   "cell_type": "code",
   "execution_count": 29,
   "metadata": {},
   "outputs": [
    {
     "data": {
      "text/plain": [
       "array(['sim', 'não', 'desconhecido'], dtype=object)"
      ]
     },
     "metadata": {},
     "output_type": "display_data"
    }
   ],
   "source": [
    "display(dados_agrupados2['Endemismo'].unique())"
   ]
  },
  {
   "cell_type": "code",
   "execution_count": 35,
   "metadata": {},
   "outputs": [
    {
     "data": {
      "text/plain": [
       "array(['sim', 'não', 'desconhecido'], dtype=object)"
      ]
     },
     "metadata": {},
     "output_type": "display_data"
    },
    {
     "data": {
      "text/html": [
       "<div>\n",
       "<style scoped>\n",
       "    .dataframe tbody tr th:only-of-type {\n",
       "        vertical-align: middle;\n",
       "    }\n",
       "\n",
       "    .dataframe tbody tr th {\n",
       "        vertical-align: top;\n",
       "    }\n",
       "\n",
       "    .dataframe thead th {\n",
       "        text-align: right;\n",
       "    }\n",
       "</style>\n",
       "<table border=\"1\" class=\"dataframe\">\n",
       "  <thead>\n",
       "    <tr style=\"text-align: right;\">\n",
       "      <th></th>\n",
       "      <th>Endemismo</th>\n",
       "      <th>frequência</th>\n",
       "    </tr>\n",
       "  </thead>\n",
       "  <tbody>\n",
       "    <tr>\n",
       "      <th>1</th>\n",
       "      <td>não</td>\n",
       "      <td>67</td>\n",
       "    </tr>\n",
       "    <tr>\n",
       "      <th>2</th>\n",
       "      <td>sim</td>\n",
       "      <td>49</td>\n",
       "    </tr>\n",
       "    <tr>\n",
       "      <th>0</th>\n",
       "      <td>desconhecido</td>\n",
       "      <td>3</td>\n",
       "    </tr>\n",
       "  </tbody>\n",
       "</table>\n",
       "</div>"
      ],
      "text/plain": [
       "      Endemismo  frequência\n",
       "1           não          67\n",
       "2           sim          49\n",
       "0  desconhecido           3"
      ]
     },
     "metadata": {},
     "output_type": "display_data"
    }
   ],
   "source": [
    "grouped_endem = dados_agrupados2.groupby(['Endemismo'])['sp'].count().reset_index(name='frequência')\n",
    "grouped_endem = grouped_endem.sort_values(by=['frequência'], ascending=False)\n",
    "display(dados_agrupados2['Endemismo'].unique())\n",
    "display(grouped_endem)"
   ]
  },
  {
   "cell_type": "code",
   "execution_count": 36,
   "metadata": {},
   "outputs": [
    {
     "data": {
      "image/png": "[encoded data removed]",
      "text/plain": [
       "<Figure size 640x480 with 1 Axes>"
      ]
     },
     "metadata": {},
     "output_type": "display_data"
    }
   ],
   "source": [
    "fig, axs = plt.subplots()\n",
    "\n",
    "axs.set_ylabel('Número de espécies')\n",
    "axs.set_xlabel('Endemismo')\n",
    "\n",
    "axs.bar(x=grouped_endem.Endemismo, height=grouped_endem.frequência, color = 'black')\n",
    "#axs.hist(dados_agrupados2['Hábito'], color='black')\n",
    "\n",
    "plt.savefig('hist_endemismo', bbox_inches='tight')"
   ]
  },
  {
   "cell_type": "code",
   "execution_count": 32,
   "metadata": {},
   "outputs": [
    {
     "data": {
      "text/plain": [
       "array(['Nativa', 'Naturalizada'], dtype=object)"
      ]
     },
     "metadata": {},
     "output_type": "display_data"
    }
   ],
   "source": [
    "display(dados_agrupados2['Origem'].unique())"
   ]
  },
  {
   "cell_type": "code",
   "execution_count": 33,
   "metadata": {},
   "outputs": [
    {
     "data": {
      "text/html": [
       "<div>\n",
       "<style scoped>\n",
       "    .dataframe tbody tr th:only-of-type {\n",
       "        vertical-align: middle;\n",
       "    }\n",
       "\n",
       "    .dataframe tbody tr th {\n",
       "        vertical-align: top;\n",
       "    }\n",
       "\n",
       "    .dataframe thead th {\n",
       "        text-align: right;\n",
       "    }\n",
       "</style>\n",
       "<table border=\"1\" class=\"dataframe\">\n",
       "  <thead>\n",
       "    <tr style=\"text-align: right;\">\n",
       "      <th></th>\n",
       "      <th>Origem</th>\n",
       "      <th>frequência</th>\n",
       "    </tr>\n",
       "  </thead>\n",
       "  <tbody>\n",
       "    <tr>\n",
       "      <th>0</th>\n",
       "      <td>Nativa</td>\n",
       "      <td>116</td>\n",
       "    </tr>\n",
       "    <tr>\n",
       "      <th>1</th>\n",
       "      <td>Naturalizada</td>\n",
       "      <td>3</td>\n",
       "    </tr>\n",
       "  </tbody>\n",
       "</table>\n",
       "</div>"
      ],
      "text/plain": [
       "         Origem  frequência\n",
       "0        Nativa         116\n",
       "1  Naturalizada           3"
      ]
     },
     "metadata": {},
     "output_type": "display_data"
    }
   ],
   "source": [
    "grouped_orig = dados_agrupados2.groupby(['Origem'])['sp'].count().reset_index(name='frequência')\n",
    "display(grouped_orig)"
   ]
  },
  {
   "cell_type": "code",
   "execution_count": 34,
   "metadata": {},
   "outputs": [
    {
     "data": {
      "image/png": "[encoded data removed]",
      "text/plain": [
       "<Figure size 640x480 with 1 Axes>"
      ]
     },
     "metadata": {},
     "output_type": "display_data"
    }
   ],
   "source": [
    "fig, axs = plt.subplots()\n",
    "\n",
    "axs.set_ylabel('Número de espécies')\n",
    "axs.set_xlabel('Origem')\n",
    "\n",
    "axs.bar(x=grouped_orig.Origem, height=grouped_orig.frequência, color = 'black')\n",
    "#axs.hist(dados_agrupados2['Hábito'], color='black')\n",
    "\n",
    "plt.savefig('hist_origem', bbox_inches='tight')"
   ]
  },
  {
   "cell_type": "code",
   "execution_count": null,
   "metadata": {},
   "outputs": [],
   "source": []
  }
 ],
 "metadata": {
  "kernelspec": {
   "display_name": "base",
   "language": "python",
   "name": "python3"
  },
  "language_info": {
   "codemirror_mode": {
    "name": "ipython",
    "version": 3
   },
   "file_extension": ".py",
   "mimetype": "text/x-python",
   "name": "python",
   "nbconvert_exporter": "python",
   "pygments_lexer": "ipython3",
   "version": "3.10.9"
  },
  "orig_nbformat": 4
 },
 "nbformat": 4,
 "nbformat_minor": 2
}
